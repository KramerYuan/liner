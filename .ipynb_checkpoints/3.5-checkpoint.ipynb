{
 "cells": [
  {
   "cell_type": "code",
   "execution_count": 1,
   "metadata": {},
   "outputs": [],
   "source": [
    "import numpy as np\n",
    "import pandas as pd\n",
    "import matplotlib.pyplot as plt\n",
    "\n",
    "data = pd.read_csv(\"./watermelon3.0α.txt\")"
   ]
  },
  {
   "cell_type": "code",
   "execution_count": 2,
   "metadata": {},
   "outputs": [],
   "source": [
    "# 将标签进行编码\n",
    "data[\"好瓜\"] = data[\"好瓜\"].apply(lambda x: 1 if x==\"是\" else 0)"
   ]
  },
  {
   "cell_type": "code",
   "execution_count": 3,
   "metadata": {},
   "outputs": [],
   "source": [
    "data = data.values"
   ]
  },
  {
   "cell_type": "code",
   "execution_count": 4,
   "metadata": {},
   "outputs": [
    {
     "data": {
      "text/plain": [
       "array([[ 1.   ,  0.697,  0.46 ,  1.   ],\n",
       "       [ 2.   ,  0.774,  0.376,  1.   ],\n",
       "       [ 3.   ,  0.634,  0.264,  1.   ],\n",
       "       [ 4.   ,  0.608,  0.318,  1.   ],\n",
       "       [ 5.   ,  0.556,  0.215,  1.   ],\n",
       "       [ 6.   ,  0.403,  0.237,  1.   ],\n",
       "       [ 7.   ,  0.481,  0.149,  1.   ],\n",
       "       [ 8.   ,  0.437,  0.211,  1.   ],\n",
       "       [ 9.   ,  0.666,  0.091,  0.   ],\n",
       "       [10.   ,  0.243,  0.267,  0.   ],\n",
       "       [11.   ,  0.245,  0.057,  0.   ],\n",
       "       [12.   ,  0.343,  0.099,  0.   ],\n",
       "       [13.   ,  0.639,  0.161,  0.   ],\n",
       "       [14.   ,  0.657,  0.198,  0.   ],\n",
       "       [15.   ,  0.36 ,  0.37 ,  0.   ],\n",
       "       [16.   ,  0.593,  0.042,  0.   ],\n",
       "       [17.   ,  0.719,  0.103,  0.   ]])"
      ]
     },
     "execution_count": 4,
     "metadata": {},
     "output_type": "execute_result"
    }
   ],
   "source": [
    "data"
   ]
  },
  {
   "cell_type": "code",
   "execution_count": 5,
   "metadata": {},
   "outputs": [],
   "source": [
    "x = data[:,1:3]"
   ]
  },
  {
   "cell_type": "code",
   "execution_count": 6,
   "metadata": {},
   "outputs": [
    {
     "data": {
      "text/plain": [
       "array([[0.697, 0.46 ],\n",
       "       [0.774, 0.376],\n",
       "       [0.634, 0.264],\n",
       "       [0.608, 0.318],\n",
       "       [0.556, 0.215],\n",
       "       [0.403, 0.237],\n",
       "       [0.481, 0.149],\n",
       "       [0.437, 0.211],\n",
       "       [0.666, 0.091],\n",
       "       [0.243, 0.267],\n",
       "       [0.245, 0.057],\n",
       "       [0.343, 0.099],\n",
       "       [0.639, 0.161],\n",
       "       [0.657, 0.198],\n",
       "       [0.36 , 0.37 ],\n",
       "       [0.593, 0.042],\n",
       "       [0.719, 0.103]])"
      ]
     },
     "execution_count": 6,
     "metadata": {},
     "output_type": "execute_result"
    }
   ],
   "source": [
    "x"
   ]
  },
  {
   "cell_type": "code",
   "execution_count": 7,
   "metadata": {},
   "outputs": [],
   "source": [
    "y = data[:,3]"
   ]
  },
  {
   "cell_type": "code",
   "execution_count": 8,
   "metadata": {},
   "outputs": [
    {
     "data": {
      "text/plain": [
       "array([1., 1., 1., 1., 1., 1., 1., 1., 0., 0., 0., 0., 0., 0., 0., 0., 0.])"
      ]
     },
     "execution_count": 8,
     "metadata": {},
     "output_type": "execute_result"
    }
   ],
   "source": [
    "y"
   ]
  },
  {
   "cell_type": "code",
   "execution_count": 9,
   "metadata": {},
   "outputs": [],
   "source": [
    "# 负样本\n",
    "x0 = x[y==0]\n",
    "# 正样本\n",
    "x1 = x[y==1]\n",
    "\n",
    "u0 = x0.mean(0, keepdims=True) # 求各列均值  1*n\n",
    "u1 = x1.mean(0, keepdims=True)\n",
    "\n",
    "# 公式3.33\n",
    "sw = np.dot((x0 - u0).T, x0 - u0) + np.dot((x1 - u1).T, x1 - u1)\n",
    "# 公式3.39\n",
    "w = np.dot(np.linalg.inv(sw), (u0 - u1).T).reshape(1, -1)  # (1, n)\n",
    "\n",
    "# 计算中心点\n",
    "project = np.dot(x, w.T)\n",
    "# 计算样本点\n",
    "wu0 = np.dot(w, u0.T)\n",
    "wu1 = np.dot(w, u1.T)\n",
    "# 预测\n",
    "y_pred = (np.abs(project - wu1) < np.abs(project - wu0)).astype(int)"
   ]
  },
  {
   "cell_type": "code",
   "execution_count": 10,
   "metadata": {},
   "outputs": [
    {
     "data": {
      "text/plain": [
       "array([[1, 1, 1, 1, 1, 0, 0, 0, 0, 0, 0, 0, 0, 1, 1, 0, 0]])"
      ]
     },
     "execution_count": 10,
     "metadata": {},
     "output_type": "execute_result"
    }
   ],
   "source": [
    "y_pred.T"
   ]
  },
  {
   "cell_type": "code",
   "execution_count": 11,
   "metadata": {},
   "outputs": [
    {
     "data": {
      "image/png": "[encoded data removed]",
      "text/plain": [
       "<Figure size 432x288 with 1 Axes>"
      ]
     },
     "metadata": {
      "needs_background": "light"
     },
     "output_type": "display_data"
    }
   ],
   "source": [
    "fig, ax = plt.subplots()\n",
    "# 设置上下左右坐标轴\n",
    "ax.spines['right'].set_color('none')\n",
    "ax.spines['top'].set_color('none')\n",
    "ax.spines['left'].set_position(('data', 0))\n",
    "ax.spines['bottom'].set_position(('data', 0))\n",
    "\n",
    "plt.scatter(x1[:, 0], x1[:, 1], c='k', marker='o', label='good')\n",
    "plt.scatter(x0[:, 0], x0[:, 1], c='r', marker='x', label='bad')\n",
    "\n",
    "plt.xlabel('density', labelpad=1)\n",
    "plt.ylabel('Sugar content')\n",
    "plt.legend(loc='upper right')\n",
    "\n",
    "x_tmp = np.linspace(-0.05, 0.15)\n",
    "y_tmp = x_tmp * w[0, 1] / w[0, 0]\n",
    "plt.plot(x_tmp, y_tmp, '#808080', linewidth=1)\n",
    "\n",
    "wu = w / np.linalg.norm(w)\n",
    "\n",
    "# 正负样本店\n",
    "x0_project = np.dot(x0, np.dot(wu.T, wu))\n",
    "plt.scatter(x0_project[:, 0], x0_project[:, 1], c='r', s=15)\n",
    "for i in range(x0.shape[0]):\n",
    "    plt.plot([x0[i, 0], x0_project[i, 0]], [x0[i, 1], x0_project[i, 1]], '--r', linewidth=1)\n",
    "\n",
    "x1_project = np.dot(x1, np.dot(wu.T, wu))\n",
    "plt.scatter(x1_project[:, 0], x1_project[:, 1], c='k', s=15)\n",
    "for i in range(x1.shape[0]):\n",
    "    plt.plot([x1[i, 0], x1_project[i, 0]], [x1[i, 1], x1_project[i, 1]], '--k', linewidth=1)\n",
    "\n",
    "# 中心点的投影\n",
    "u0_project = np.dot(u0, np.dot(wu.T, wu))\n",
    "plt.scatter(u0_project[:, 0], u0_project[:, 1], c='#FF4500', s=60)\n",
    "u1_project = np.dot(u1, np.dot(wu.T, wu))\n",
    "plt.scatter(u1_project[:, 0], u1_project[:, 1], c='#696969', s=60)\n",
    "\n",
    "ax.annotate(r'u0 projection',\n",
    "            xy=(u0_project[:, 0], u0_project[:, 1]),\n",
    "            xytext=(u0_project[:, 0] - 0.2, u0_project[:, 1] - 0.1),\n",
    "            size=13,\n",
    "            va=\"center\", ha=\"left\",\n",
    "            arrowprops=dict(arrowstyle=\"->\",\n",
    "                            color=\"k\",\n",
    "                            )\n",
    "            )\n",
    "\n",
    "ax.annotate(r'u1 projection',\n",
    "            xy=(u1_project[:, 0], u1_project[:, 1]),\n",
    "            xytext=(u1_project[:, 0] - 0.1, u1_project[:, 1] + 0.1),\n",
    "            size=13,\n",
    "            va=\"center\", ha=\"left\",\n",
    "            arrowprops=dict(arrowstyle=\"->\",\n",
    "                            color=\"k\",\n",
    "                            )\n",
    "            )\n",
    "plt.axis(\"equal\")  # 两坐标轴的单位刻度长度保存一致\n",
    "plt.show()"
   ]
  },
  {
   "cell_type": "code",
   "execution_count": null,
   "metadata": {},
   "outputs": [],
   "source": []
  }
 ],
 "metadata": {
  "kernelspec": {
   "display_name": "Python 3",
   "language": "python",
   "name": "python3"
  },
  "language_info": {
   "codemirror_mode": {
    "name": "ipython",
    "version": 3
   },
   "file_extension": ".py",
   "mimetype": "text/x-python",
   "name": "python",
   "nbconvert_exporter": "python",
   "pygments_lexer": "ipython3",
   "version": "3.7.6"
  }
 },
 "nbformat": 4,
 "nbformat_minor": 4
}
