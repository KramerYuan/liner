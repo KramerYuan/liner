{
 "cells": [
  {
   "cell_type": "code",
   "execution_count": 1,
   "metadata": {},
   "outputs": [],
   "source": [
    "import pandas as pd\n",
    "import matplotlib.pyplot as plt\n",
    "from sklearn.linear_model import LogisticRegression\n",
    "import matplotlib.pylab as pl\n",
    "\n",
    "data = pd.read_csv(\"./watermelon3.0α.txt\")"
   ]
  },
  {
   "cell_type": "code",
   "execution_count": 2,
   "metadata": {},
   "outputs": [],
   "source": [
    "# 将标签进行编码\n",
    "data[\"好瓜\"] = data[\"好瓜\"].apply(lambda x: 1 if x==\"是\" else 0)"
   ]
  },
  {
   "cell_type": "code",
   "execution_count": 3,
   "metadata": {},
   "outputs": [],
   "source": [
    "data = data.values"
   ]
  },
  {
   "cell_type": "code",
   "execution_count": 4,
   "metadata": {},
   "outputs": [],
   "source": [
    "# x.shape=(17*2)\n",
    "x = data[:, 1:3] "
   ]
  },
  {
   "cell_type": "code",
   "execution_count": 5,
   "metadata": {},
   "outputs": [],
   "source": [
    "# y.shape=(17*1)\n",
    "y = data[:, 3]"
   ]
  },
  {
   "cell_type": "code",
   "execution_count": 6,
   "metadata": {},
   "outputs": [
    {
     "data": {
      "text/plain": [
       "Text(0, 0.5, 'Sugar content')"
      ]
     },
     "execution_count": 6,
     "metadata": {},
     "output_type": "execute_result"
    },
    {
     "data": {
      "image/png": "[encoded data removed]",
      "text/plain": [
       "<Figure size 432x288 with 1 Axes>"
      ]
     },
     "metadata": {
      "needs_background": "light"
     },
     "output_type": "display_data"
    }
   ],
   "source": [
    "# 散点图可视化\n",
    "plt.scatter(data[:8, 1], data[:8, 2], c='k', marker='o')\n",
    "plt.scatter(data[8:, 1], data[8:, 2], c='r', marker='x')\n",
    "\n",
    "plt.xlabel(\"density\")\n",
    "plt.ylabel(\"Sugar content\")"
   ]
  },
  {
   "cell_type": "code",
   "execution_count": 7,
   "metadata": {},
   "outputs": [],
   "source": [
    "from sklearn import model_selection\n",
    "x_train, x_test, y_train, y_test = model_selection.train_test_split(x, y, test_size=0.5, random_state=1108)"
   ]
  },
  {
   "cell_type": "code",
   "execution_count": 8,
   "metadata": {},
   "outputs": [],
   "source": [
    "import numpy as np\n",
    "import pdb\n",
    "\n",
    "def sigmoid(x):\n",
    "    s = 1 / (1 + np.exp(-x))\n",
    "    return s\n",
    "\n",
    "\n",
    "def J_cost(x, y, beta):\n",
    "    \"\"\"\n",
    "    公式3.27,使其最小化\n",
    "    x：特征矩阵(此处为17*2)\n",
    "    y：标签矩阵(此处为17*1)\n",
    "    beta：待更新参数(此处为3*1， 因为x会在后面加一列1，所以beta的行数为3)\n",
    "    \"\"\"\n",
    "    x_hat = np.c_[x, np.ones((x.shape[0], 1))] # x_hat等于原来的x矩阵加一列1\n",
    "    beta = beta.reshape(-1,1) # 将beta转换成单列矩阵\n",
    "    y = y.reshape(-1,1) # 将y也转换成单列矩阵\n",
    "    \n",
    "    l_beta = -y * np.dot(x_hat, beta) + np.log(1 + np.exp(np.dot(x_hat, beta)))\n",
    "  \n",
    "    return l_beta.sum() \n",
    "\n",
    "def gradient(x, y, beta):\n",
    "    \"\"\"\n",
    "    3.27的一阶导数，即公式3.30\n",
    "    x:特征矩阵  此处为17*2 (行数)*(特征维度)\n",
    "    y：标签 此处为17*1  （行数）* 列\n",
    "    beta：3.27中待更新参数 ， （特征维度+1）* 列(1)\n",
    "    \"\"\"\n",
    "    x_hat = np.c_[x, np.ones((x.shape[0], 1))] # 给x添加一列1\n",
    "    beta = beta.reshape(-1,1) # 将beta转换成列向量，方便之后用矩阵乘法\n",
    "    y = y.reshape(-1,1) \n",
    "    p1 = sigmoid(np.dot(x_hat, beta))\n",
    "    \n",
    "    gra = (-x_hat * (y - p1)).sum(axis=0) # 1*3\n",
    "    return gra.reshape(-1,1)\n",
    "\n",
    "\n",
    "def update_parameters_gradDesc(x, y, beta, learning_rate, num_iterations, print_cost):\n",
    "    \"\"\"\n",
    "    x:特征矩阵 17*2\n",
    "    y：标签 17*1\n",
    "    learning_rate:学习率\n",
    "    num_iterations:迭代次数\n",
    "    print_cost:每迭代100次，打印一下损失函数\n",
    "    \"\"\"\n",
    "    for i in range(num_iterations):\n",
    "        \n",
    "        grad = gradient(x, y, beta)\n",
    "        beta = beta - learning_rate * grad\n",
    "        \n",
    "        if(i%100 == 0) & print_cost:\n",
    "            print(\"{}th iteration ,cost is {}\".format(i, J_cost(x,y,beta)))\n",
    "    \n",
    "    return beta\n",
    "\n",
    "\n",
    "def initialize_beta(n):\n",
    "    # 返回（n+1）* 1的矩阵beta\n",
    "    # beta = np.random.randn(n + 1, 1)\n",
    "    beta = np.zeros([n+1, 1])\n",
    "    # beta = np.ones([n+1, 1])\n",
    "    # beta = np.array([[1],[0],[1]])\n",
    "    return beta\n",
    "\n",
    "def logistic(x,y,num_iterations=100,learning_rate=0.5, print_cost=True):\n",
    "    \"\"\"\n",
    "    \"\"\"\n",
    "    n=x.shape[1]\n",
    "    beta = initialize_beta(n)\n",
    "    return update_parameters_gradDesc(x,y,beta,learning_rate,num_iterations,print_cost)\n",
    "\n",
    "\n",
    "def predict(x,beta):\n",
    "    x_hat = np.c_[x, np.ones((x.shape[0], 1))]\n",
    "    p1 = sigmoid(np.dot(x_hat, beta))\n",
    "    # print(p1)\n",
    "    p1[p1 >= 0.5] = 1\n",
    "    p1[p1 < 0.5] = 0\n",
    "    \n",
    "    return p1"
   ]
  },
  {
   "cell_type": "code",
   "execution_count": 9,
   "metadata": {
    "scrolled": true
   },
   "outputs": [
    {
     "name": "stdout",
     "output_type": "stream",
     "text": [
      "0th iteration ,cost is 5.523975005905735\n"
     ]
    }
   ],
   "source": [
    "beta = logistic(x_train, y_train, print_cost=True, learning_rate=0.3, num_iterations=100)\n",
    "# beta = logistic(x,y,print_cost=True,learning_rate=0.3,num_iterations=2000)"
   ]
  },
  {
   "cell_type": "code",
   "execution_count": 10,
   "metadata": {},
   "outputs": [
    {
     "name": "stdout",
     "output_type": "stream",
     "text": [
      "[[3 2]\n",
      " [0 4]]\n",
      "              precision    recall  f1-score   support\n",
      "\n",
      "         0.0       1.00      0.60      0.75         5\n",
      "         1.0       0.67      1.00      0.80         4\n",
      "\n",
      "    accuracy                           0.78         9\n",
      "   macro avg       0.83      0.80      0.77         9\n",
      "weighted avg       0.85      0.78      0.77         9\n",
      "\n"
     ]
    }
   ],
   "source": [
    "from sklearn import metrics\n",
    "y_pred = predict(x_test,beta)\n",
    "print(metrics.confusion_matrix(y_test, y_pred))\n",
    "print(metrics.classification_report(y_test, y_pred))"
   ]
  },
  {
   "cell_type": "code",
   "execution_count": 11,
   "metadata": {},
   "outputs": [
    {
     "data": {
      "image/png": "[encoded data removed]",
      "text/plain": [
       "<Figure size 432x288 with 1 Axes>"
      ]
     },
     "metadata": {
      "needs_background": "light"
     },
     "output_type": "display_data"
    }
   ],
   "source": [
    "# 在图中显示决策边界\n",
    "f3 = plt.figure(3) \n",
    "h = 0.001\n",
    "# 确定图的边界\n",
    "x0_min, x0_max = x[:, 0].min()-0.1, x[:, 0].max()+0.1\n",
    "x1_min, x1_max = x[:, 1].min()-0.1, x[:, 1].max()+0.1\n",
    "# 得到网格点坐标矩阵\n",
    "x0, x1 = np.meshgrid(np.arange(x0_min, x0_max, h),\n",
    "                     np.arange(x1_min, x1_max, h))\n",
    "\n",
    "# 将网格坐标进行预测\n",
    "z = predict(np.c_[x0.ravel(), x1.ravel()], beta) \n",
    "\n",
    "# 显示出决策边界\n",
    "z = z.reshape(x0.shape)\n",
    "# plt.contourf(x0, x1, z, cmap = pl.cm.Paired )\n",
    "plt.contourf(x0, x1, z)\n",
    "\n",
    "# 作散点图图 \n",
    "plt.title('watermelon_3a')  \n",
    "plt.xlabel('density')  \n",
    "plt.ylabel('ratio_sugar')  \n",
    "plt.scatter(x[y == 0,0], x[y == 0,1], marker = 'o', color = 'r', s=100, label = 'bad')\n",
    "plt.scatter(x[y == 1,0], x[y == 1,1], marker = 'o', color = 'g', s=100, label = 'good')\n",
    "plt.show()"
   ]
  },
  {
   "cell_type": "code",
   "execution_count": 13,
   "metadata": {},
   "outputs": [
    {
     "data": {
      "text/plain": [
       "array([[-2.25890525],\n",
       "       [ 6.05663819],\n",
       "       [ 0.19017339]])"
      ]
     },
     "execution_count": 13,
     "metadata": {},
     "output_type": "execute_result"
    }
   ],
   "source": [
    "beta"
   ]
  },
  {
   "cell_type": "markdown",
   "metadata": {},
   "source": [
    "# 下面是使用sklearn中的线性模型"
   ]
  },
  {
   "cell_type": "code",
   "execution_count": 14,
   "metadata": {},
   "outputs": [
    {
     "name": "stdout",
     "output_type": "stream",
     "text": [
      "[1. 1. 1. 0. 0. 1. 1. 1. 1.]\n",
      "[[2 3]\n",
      " [0 4]]\n",
      "              precision    recall  f1-score   support\n",
      "\n",
      "         0.0       1.00      0.40      0.57         5\n",
      "         1.0       0.57      1.00      0.73         4\n",
      "\n",
      "    accuracy                           0.67         9\n",
      "   macro avg       0.79      0.70      0.65         9\n",
      "weighted avg       0.81      0.67      0.64         9\n",
      "\n"
     ]
    },
    {
     "data": {
      "image/png": "[encoded data removed]",
      "text/plain": [
       "<Figure size 432x288 with 1 Axes>"
      ]
     },
     "metadata": {
      "needs_background": "light"
     },
     "output_type": "display_data"
    }
   ],
   "source": [
    "import matplotlib.pylab as pl\n",
    "lr = LogisticRegression(max_iter=200)  \n",
    "lr.fit(x_train, y_train)\n",
    "\n",
    "y_pred_sk = lr.predict(x_test)\n",
    "print(y_pred_sk)\n",
    "print(metrics.confusion_matrix(y_test, y_pred_sk))\n",
    "print(metrics.classification_report(y_test, y_pred_sk))\n",
    "\n",
    "# 在图中显示决策边界\n",
    "f2 = plt.figure(2) \n",
    "h = 0.001\n",
    "# 确定图的边界\n",
    "x0_min, x0_max = x[:, 0].min()-0.1, x[:, 0].max()+0.1\n",
    "x1_min, x1_max = x[:, 1].min()-0.1, x[:, 1].max()+0.1\n",
    "# 得到网格点坐标矩阵\n",
    "x0, x1 = np.meshgrid(np.arange(x0_min, x0_max, h),\n",
    "                     np.arange(x1_min, x1_max, h))\n",
    "\n",
    "# 将网格坐标进行预测\n",
    "z = lr.predict(np.c_[x0.ravel(), x1.ravel()]) \n",
    "\n",
    "# 显示出决策边界\n",
    "z = z.reshape(x0.shape)\n",
    "plt.contourf(x0, x1, z)\n",
    "\n",
    "# 作散点图图 \n",
    "plt.title('watermelon_3a')  \n",
    "plt.xlabel('density')  \n",
    "plt.ylabel('ratio_sugar')  \n",
    "plt.scatter(x[y == 0,0], x[y == 0,1], marker = 'o', color = 'r', s=100, label = 'bad')\n",
    "plt.scatter(x[y == 1,0], x[y == 1,1], marker = 'o', color = 'g', s=100, label = 'good')\n",
    "plt.show()\n"
   ]
  },
  {
   "cell_type": "code",
   "execution_count": 15,
   "metadata": {},
   "outputs": [],
   "source": [
    "# def gradient_2(x, y, beta):\n",
    "# # 求二阶导函数\n",
    "#     x_hat = np.c_[x, np.ones((x.shape[0], 1))]\n",
    "#     beta = beta.reshape(-1, 1)\n",
    "#     y = y.reshape(-1, 1)\n",
    "\n",
    "#     p1 = sigmoid(np.dot(x_hat, beta))\n",
    "\n",
    "#     m, n = x.shape\n",
    "#     P = np.eye(m) * p1 * (1 - p1)\n",
    "\n",
    "#     return np.dot(np.dot(x_hat.T, P), x_hat)"
   ]
  },
  {
   "cell_type": "code",
   "execution_count": 16,
   "metadata": {},
   "outputs": [
    {
     "data": {
      "text/plain": [
       "array([[ 0.01488127, -0.10316708,  0.24113286]])"
      ]
     },
     "execution_count": 16,
     "metadata": {},
     "output_type": "execute_result"
    }
   ],
   "source": [
    "np.c_[lr.intercept_,lr.coef_]"
   ]
  },
  {
   "cell_type": "code",
   "execution_count": 21,
   "metadata": {},
   "outputs": [],
   "source": [
    "temp = np.array([[1,2,3],[4,5,6]])"
   ]
  },
  {
   "cell_type": "code",
   "execution_count": null,
   "metadata": {},
   "outputs": [],
   "source": []
  }
 ],
 "metadata": {
  "kernelspec": {
   "display_name": "Python 3",
   "language": "python",
   "name": "python3"
  },
  "language_info": {
   "codemirror_mode": {
    "name": "ipython",
    "version": 3
   },
   "file_extension": ".py",
   "mimetype": "text/x-python",
   "name": "python",
   "nbconvert_exporter": "python",
   "pygments_lexer": "ipython3",
   "version": "3.7.6"
  }
 },
 "nbformat": 4,
 "nbformat_minor": 4
}
